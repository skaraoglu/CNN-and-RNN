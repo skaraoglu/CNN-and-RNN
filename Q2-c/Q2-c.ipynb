{
 "cells": [
  {
   "cell_type": "code",
   "execution_count": 1,
   "metadata": {},
   "outputs": [
    {
     "name": "stderr",
     "output_type": "stream",
     "text": [
      "C:\\Users\\slm\\Anaconda3\\lib\\site-packages\\tensorflow\\python\\framework\\dtypes.py:516: FutureWarning: Passing (type, 1) or '1type' as a synonym of type is deprecated; in a future version of numpy, it will be understood as (type, (1,)) / '(1,)type'.\n",
      "  _np_qint8 = np.dtype([(\"qint8\", np.int8, 1)])\n",
      "C:\\Users\\slm\\Anaconda3\\lib\\site-packages\\tensorflow\\python\\framework\\dtypes.py:517: FutureWarning: Passing (type, 1) or '1type' as a synonym of type is deprecated; in a future version of numpy, it will be understood as (type, (1,)) / '(1,)type'.\n",
      "  _np_quint8 = np.dtype([(\"quint8\", np.uint8, 1)])\n",
      "C:\\Users\\slm\\Anaconda3\\lib\\site-packages\\tensorflow\\python\\framework\\dtypes.py:518: FutureWarning: Passing (type, 1) or '1type' as a synonym of type is deprecated; in a future version of numpy, it will be understood as (type, (1,)) / '(1,)type'.\n",
      "  _np_qint16 = np.dtype([(\"qint16\", np.int16, 1)])\n",
      "C:\\Users\\slm\\Anaconda3\\lib\\site-packages\\tensorflow\\python\\framework\\dtypes.py:519: FutureWarning: Passing (type, 1) or '1type' as a synonym of type is deprecated; in a future version of numpy, it will be understood as (type, (1,)) / '(1,)type'.\n",
      "  _np_quint16 = np.dtype([(\"quint16\", np.uint16, 1)])\n",
      "C:\\Users\\slm\\Anaconda3\\lib\\site-packages\\tensorflow\\python\\framework\\dtypes.py:520: FutureWarning: Passing (type, 1) or '1type' as a synonym of type is deprecated; in a future version of numpy, it will be understood as (type, (1,)) / '(1,)type'.\n",
      "  _np_qint32 = np.dtype([(\"qint32\", np.int32, 1)])\n",
      "C:\\Users\\slm\\Anaconda3\\lib\\site-packages\\tensorflow\\python\\framework\\dtypes.py:525: FutureWarning: Passing (type, 1) or '1type' as a synonym of type is deprecated; in a future version of numpy, it will be understood as (type, (1,)) / '(1,)type'.\n",
      "  np_resource = np.dtype([(\"resource\", np.ubyte, 1)])\n",
      "C:\\Users\\slm\\Anaconda3\\lib\\site-packages\\tensorboard\\compat\\tensorflow_stub\\dtypes.py:541: FutureWarning: Passing (type, 1) or '1type' as a synonym of type is deprecated; in a future version of numpy, it will be understood as (type, (1,)) / '(1,)type'.\n",
      "  _np_qint8 = np.dtype([(\"qint8\", np.int8, 1)])\n",
      "C:\\Users\\slm\\Anaconda3\\lib\\site-packages\\tensorboard\\compat\\tensorflow_stub\\dtypes.py:542: FutureWarning: Passing (type, 1) or '1type' as a synonym of type is deprecated; in a future version of numpy, it will be understood as (type, (1,)) / '(1,)type'.\n",
      "  _np_quint8 = np.dtype([(\"quint8\", np.uint8, 1)])\n",
      "C:\\Users\\slm\\Anaconda3\\lib\\site-packages\\tensorboard\\compat\\tensorflow_stub\\dtypes.py:543: FutureWarning: Passing (type, 1) or '1type' as a synonym of type is deprecated; in a future version of numpy, it will be understood as (type, (1,)) / '(1,)type'.\n",
      "  _np_qint16 = np.dtype([(\"qint16\", np.int16, 1)])\n",
      "C:\\Users\\slm\\Anaconda3\\lib\\site-packages\\tensorboard\\compat\\tensorflow_stub\\dtypes.py:544: FutureWarning: Passing (type, 1) or '1type' as a synonym of type is deprecated; in a future version of numpy, it will be understood as (type, (1,)) / '(1,)type'.\n",
      "  _np_quint16 = np.dtype([(\"quint16\", np.uint16, 1)])\n",
      "C:\\Users\\slm\\Anaconda3\\lib\\site-packages\\tensorboard\\compat\\tensorflow_stub\\dtypes.py:545: FutureWarning: Passing (type, 1) or '1type' as a synonym of type is deprecated; in a future version of numpy, it will be understood as (type, (1,)) / '(1,)type'.\n",
      "  _np_qint32 = np.dtype([(\"qint32\", np.int32, 1)])\n",
      "C:\\Users\\slm\\Anaconda3\\lib\\site-packages\\tensorboard\\compat\\tensorflow_stub\\dtypes.py:550: FutureWarning: Passing (type, 1) or '1type' as a synonym of type is deprecated; in a future version of numpy, it will be understood as (type, (1,)) / '(1,)type'.\n",
      "  np_resource = np.dtype([(\"resource\", np.ubyte, 1)])\n",
      "Using TensorFlow backend.\n"
     ]
    }
   ],
   "source": [
    "import numpy as np\n",
    "import math\n",
    "import pandas as pd\n",
    "import matplotlib.pyplot as plt\n",
    "import tensorflow as tf\n",
    "import keras\n",
    "import seaborn as sns\n",
    "from keras.models import Sequential\n",
    "from keras.layers import Dense"
   ]
  },
  {
   "cell_type": "code",
   "execution_count": 2,
   "metadata": {},
   "outputs": [],
   "source": [
    "# convert an array of values into a dataset matrix\n",
    "def create_dataset(dataset, look_back=1):\n",
    "    dataX, dataY = [], []\n",
    "    for i in range(len(dataset)-look_back-1):\n",
    "        a = dataset.iloc[i:(i+look_back)]\n",
    "        dataX.append(a)\n",
    "        dataY.append(dataset.iloc[i + look_back])\n",
    "    return np.array(dataX), np.array(dataY)\n",
    "\n",
    "def create_timeframe(X, y, t, k):\n",
    "    time_data = X[t - k: t]\n",
    "    time_targ = y[t - k: t]\n",
    "    vali_data = X[t + 1: train_split]\n",
    "    vali_targ = y[t + 1: train_split]\n",
    "    return time_data, time_targ, vali_data, vali_targ\n",
    "\n",
    "def visualize_loss(history, title):\n",
    "    loss = history.history[\"loss\"]\n",
    "    val_loss = history.history[\"val_loss\"]\n",
    "    epochs = range(len(loss))\n",
    "    plt.figure()\n",
    "    plt.plot(epochs, loss, \"b\", label=\"Training loss\")\n",
    "    plt.plot(epochs, val_loss, \"r\", label=\"Validation loss\")\n",
    "    plt.title(title)\n",
    "    plt.xlabel(\"Epochs\")\n",
    "    plt.ylabel(\"Loss\")\n",
    "    plt.legend()\n",
    "    plt.show()"
   ]
  },
  {
   "cell_type": "code",
   "execution_count": 3,
   "metadata": {},
   "outputs": [],
   "source": [
    "df = pd.read_csv(\"../data/daily-min-temperatures.csv\")"
   ]
  },
  {
   "cell_type": "code",
   "execution_count": 4,
   "metadata": {},
   "outputs": [],
   "source": [
    "split_fraction = 0.8\n",
    "train_split = int(split_fraction * int(df.shape[0]))\n",
    "\n",
    "learning_rate = 0.001\n",
    "epochs = 10\n",
    "t, k = 2400, 2000\n",
    "# reshape into X=t and Y=t+1\n",
    "look_back = 1\n",
    "#Create dataset creates targets as next entries value\n",
    "train, test = df[\"Temp\"].iloc[0:train_split], df[\"Temp\"].iloc[train_split:]\n",
    "X_train, y_train = create_dataset(train, look_back)\n",
    "X_test, y_test = create_dataset(test, look_back)\n",
    "#LSTM only accepts 3D inputs, increase dimensionality\n",
    "X_train = np.expand_dims(X_train, 1)\n",
    "X_test = np.expand_dims(X_test, 1)\n",
    "#Create the timeframe w.r.t t and k values\n",
    "X_train, y_train, X_val, y_val = create_timeframe(X_train, y_train, t, k)"
   ]
  },
  {
   "cell_type": "markdown",
   "metadata": {},
   "source": [
    "GRU model"
   ]
  },
  {
   "cell_type": "code",
   "execution_count": 5,
   "metadata": {},
   "outputs": [],
   "source": [
    "# create and fit GRU model\n",
    "model2 = Sequential()\n",
    "model2.add(keras.layers.GRU(32))\n",
    "model2.add(Dense(1))\n",
    "model2.compile(loss='mse', optimizer='adam')\n",
    "path_checkpoint2 = \"model_checkpoint2.h5\"\n",
    "es_callback2 = keras.callbacks.EarlyStopping(monitor=\"val_loss\", min_delta=0, patience=5)\n",
    "\n",
    "modelckpt_callback2 = keras.callbacks.ModelCheckpoint(\n",
    "    monitor=\"val_loss\",\n",
    "    filepath=path_checkpoint2,\n",
    "    verbose=1,\n",
    "    save_weights_only=True,\n",
    "    save_best_only=True,\n",
    ")"
   ]
  },
  {
   "cell_type": "code",
   "execution_count": 6,
   "metadata": {},
   "outputs": [
    {
     "name": "stdout",
     "output_type": "stream",
     "text": [
      "WARNING:tensorflow:From C:\\Users\\slm\\Anaconda3\\lib\\site-packages\\keras\\backend\\tensorflow_backend.py:422: The name tf.global_variables is deprecated. Please use tf.compat.v1.global_variables instead.\n",
      "\n",
      "Train on 2000 samples, validate on 517 samples\n",
      "Epoch 1/200\n",
      " - 2s - loss: 20.7903 - val_loss: 7.9151\n",
      "\n",
      "Epoch 00001: val_loss improved from inf to 7.91512, saving model to model_checkpoint2.h5\n",
      "Epoch 2/200\n",
      " - 1s - loss: 7.5280 - val_loss: 7.3008\n",
      "\n",
      "Epoch 00002: val_loss improved from 7.91512 to 7.30077, saving model to model_checkpoint2.h5\n",
      "Epoch 3/200\n",
      " - 1s - loss: 7.2738 - val_loss: 7.2311\n",
      "\n",
      "Epoch 00003: val_loss improved from 7.30077 to 7.23111, saving model to model_checkpoint2.h5\n",
      "Epoch 4/200\n",
      " - 1s - loss: 7.1878 - val_loss: 7.0752\n",
      "\n",
      "Epoch 00004: val_loss improved from 7.23111 to 7.07521, saving model to model_checkpoint2.h5\n",
      "Epoch 5/200\n",
      " - 1s - loss: 7.1105 - val_loss: 7.2953\n",
      "\n",
      "Epoch 00005: val_loss did not improve from 7.07521\n",
      "Epoch 6/200\n",
      " - 1s - loss: 7.1692 - val_loss: 6.9394\n",
      "\n",
      "Epoch 00006: val_loss improved from 7.07521 to 6.93943, saving model to model_checkpoint2.h5\n",
      "Epoch 7/200\n",
      " - 1s - loss: 7.0999 - val_loss: 6.9305\n",
      "\n",
      "Epoch 00007: val_loss improved from 6.93943 to 6.93053, saving model to model_checkpoint2.h5\n",
      "Epoch 8/200\n",
      " - 1s - loss: 7.0866 - val_loss: 6.8994\n",
      "\n",
      "Epoch 00008: val_loss improved from 6.93053 to 6.89939, saving model to model_checkpoint2.h5\n",
      "Epoch 9/200\n",
      " - 1s - loss: 7.0498 - val_loss: 6.8417\n",
      "\n",
      "Epoch 00009: val_loss improved from 6.89939 to 6.84172, saving model to model_checkpoint2.h5\n",
      "Epoch 10/200\n",
      " - 1s - loss: 7.0177 - val_loss: 6.9886\n",
      "\n",
      "Epoch 00010: val_loss did not improve from 6.84172\n",
      "Epoch 11/200\n",
      " - 1s - loss: 7.0831 - val_loss: 8.1949\n",
      "\n",
      "Epoch 00011: val_loss did not improve from 6.84172\n",
      "Epoch 12/200\n",
      " - 1s - loss: 6.9822 - val_loss: 7.0139\n",
      "\n",
      "Epoch 00012: val_loss did not improve from 6.84172\n",
      "Epoch 13/200\n",
      " - 1s - loss: 7.0308 - val_loss: 6.8018\n",
      "\n",
      "Epoch 00013: val_loss improved from 6.84172 to 6.80181, saving model to model_checkpoint2.h5\n",
      "Epoch 14/200\n",
      " - 1s - loss: 7.0106 - val_loss: 6.9238\n",
      "\n",
      "Epoch 00014: val_loss did not improve from 6.80181\n",
      "Epoch 15/200\n",
      " - 2s - loss: 7.0216 - val_loss: 6.9996\n",
      "\n",
      "Epoch 00015: val_loss did not improve from 6.80181\n",
      "Epoch 16/200\n",
      " - 1s - loss: 6.9989 - val_loss: 6.8104\n",
      "\n",
      "Epoch 00016: val_loss did not improve from 6.80181\n",
      "Epoch 17/200\n",
      " - 1s - loss: 7.0012 - val_loss: 6.8207\n",
      "\n",
      "Epoch 00017: val_loss did not improve from 6.80181\n",
      "Epoch 18/200\n",
      " - 1s - loss: 7.0101 - val_loss: 6.8623\n",
      "\n",
      "Epoch 00018: val_loss did not improve from 6.80181\n"
     ]
    }
   ],
   "source": [
    "h2 = model2.fit(X_train, y_train, epochs=200, batch_size=2, verbose=2, validation_data=(X_val, y_val), callbacks=[es_callback2, modelckpt_callback2])"
   ]
  },
  {
   "cell_type": "code",
   "execution_count": 7,
   "metadata": {},
   "outputs": [
    {
     "name": "stdout",
     "output_type": "stream",
     "text": [
      "Model: \"sequential_1\"\n",
      "_________________________________________________________________\n",
      "Layer (type)                 Output Shape              Param #   \n",
      "=================================================================\n",
      "gru_1 (GRU)                  (None, 32)                3264      \n",
      "_________________________________________________________________\n",
      "dense_1 (Dense)              (None, 1)                 33        \n",
      "=================================================================\n",
      "Total params: 3,297\n",
      "Trainable params: 3,297\n",
      "Non-trainable params: 0\n",
      "_________________________________________________________________\n"
     ]
    }
   ],
   "source": [
    "trainPredict2 = model2.predict(X_train)\n",
    "testPredict2 = model2.predict(X_test)\n",
    "model2.summary()"
   ]
  },
  {
   "cell_type": "code",
   "execution_count": 8,
   "metadata": {},
   "outputs": [
    {
     "name": "stdout",
     "output_type": "stream",
     "text": [
      "Train Score: 6.90 MSE (2.63 RMSE)\n",
      "Test Score: 5.91 MSE (2.43 RMSE)\n"
     ]
    }
   ],
   "source": [
    "# Estimate model performance\n",
    "trainScore2 = model2.evaluate(X_train, y_train, verbose=0)\n",
    "print('Train Score: %.2f MSE (%.2f RMSE)' % (trainScore2, math.sqrt(trainScore2)))\n",
    "testScore2 = model2.evaluate(X_test, y_test, verbose=0)\n",
    "print('Test Score: %.2f MSE (%.2f RMSE)' % (testScore2, math.sqrt(testScore2)))"
   ]
  },
  {
   "cell_type": "code",
   "execution_count": 9,
   "metadata": {},
   "outputs": [
    {
     "data": {
      "image/png": "[encoded data removed]",
      "text/plain": [
       "<Figure size 432x288 with 1 Axes>"
      ]
     },
     "metadata": {
      "needs_background": "light"
     },
     "output_type": "display_data"
    }
   ],
   "source": [
    "visualize_loss(h2, \"Training and Validation Loss\")"
   ]
  },
  {
   "cell_type": "code",
   "execution_count": 10,
   "metadata": {},
   "outputs": [
    {
     "data": {
      "image/png": "[encoded data removed]",
      "text/plain": [
       "<Figure size 432x288 with 1 Axes>"
      ]
     },
     "metadata": {
      "needs_background": "light"
     },
     "output_type": "display_data"
    }
   ],
   "source": [
    "loss = h2.history[\"loss\"]\n",
    "val_loss = h2.history[\"val_loss\"]\n",
    "epochs = range(len(loss))\n",
    "plt.figure()\n",
    "plt.plot(epochs, loss, \"b\", label=\"Training loss\")\n",
    "plt.plot(epochs, val_loss, \"r\", label=\"Validation loss\")\n",
    "plt.title(\"GRU training and validation\")\n",
    "plt.xlabel(\"Epochs\")\n",
    "plt.ylabel(\"Loss\")\n",
    "plt.legend()\n",
    "plt.show()"
   ]
  },
  {
   "cell_type": "code",
   "execution_count": null,
   "metadata": {},
   "outputs": [],
   "source": []
  }
 ],
 "metadata": {
  "kernelspec": {
   "display_name": "Python 3",
   "language": "python",
   "name": "python3"
  },
  "language_info": {
   "codemirror_mode": {
    "name": "ipython",
    "version": 3
   },
   "file_extension": ".py",
   "mimetype": "text/x-python",
   "name": "python",
   "nbconvert_exporter": "python",
   "pygments_lexer": "ipython3",
   "version": "3.7.3"
  }
 },
 "nbformat": 4,
 "nbformat_minor": 2
}
