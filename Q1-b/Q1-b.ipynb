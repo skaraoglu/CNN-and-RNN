{
 "cells": [
  {
   "cell_type": "markdown",
   "metadata": {},
   "source": [
    "# Question 1 - b:\n",
    "\n",
    "The CIFAR-10 dataset is a famous computer vision dataset. It consists of 60000 32x32 color images in 10 classes, with 6000 images per class. There are 50000 training images and 10000 test images. Download the dataset using this link: https://www.cs.toronto.edu/~kriz/cifar.html\n",
    "\n",
    "    b) Randomly choose 1000 images from the training set and put them in a 1000*3072-dimensional data matrix 𝐴 . Note that 3072 is 32*32*3 where 32\n",
    "    is the height and weight of the images and 3 is the number of colors (channels). Run PCA dimensionality reduction method on data matrix 𝐴 and\n",
    "    obtain the top 120 principal components (directions/components which show highest variation in the data). Report those components and show how\n",
    "    much of data variation is represented by those 120 directions."
   ]
  },
  {
   "cell_type": "code",
   "execution_count": 5,
   "metadata": {},
   "outputs": [],
   "source": [
    "#To ignore tensorflow's numpy related warnings\n",
    "import warnings\n",
    "warnings.simplefilter(\"ignore\")"
   ]
  },
  {
   "cell_type": "markdown",
   "metadata": {},
   "source": [
    "## Libraries\n",
    "\n",
    "The numpy library provides basic array convertion and type conversion for convenience. We used the CIFAR-10 dataset provided with tensorflow's keras. Since our goal is to plot images, we utilized the matplotlib for the plotting task. We implemented the random library to obtain random values for data entry selection. To implement principal component analysis (PCA) in our work, we utilized the PCA method provided by sklearn library. Detailed information can be found on the sklearn website: https://scikit-learn.org/stable/modules/decomposition.html#pca."
   ]
  },
  {
   "cell_type": "code",
   "execution_count": 19,
   "metadata": {},
   "outputs": [],
   "source": [
    "import numpy as np\n",
    "import tensorflow as tf\n",
    "import matplotlib.pyplot as plt\n",
    "import random\n",
    "from sklearn.decomposition import PCA\n",
    "from sklearn.model_selection import cross_val_score"
   ]
  },
  {
   "cell_type": "code",
   "execution_count": 10,
   "metadata": {},
   "outputs": [
    {
     "name": "stdout",
     "output_type": "stream",
     "text": [
      "(50000, 32, 32, 3)\n",
      "(10000, 32, 32, 3)\n"
     ]
    }
   ],
   "source": [
    "(X_train, y_train), (X_test, y_test) = tf.keras.datasets.cifar10.load_data()\n",
    "assert X_train.shape == (50000, 32, 32, 3)\n",
    "assert X_test.shape == (10000, 32, 32, 3)\n",
    "assert y_train.shape == (50000, 1)\n",
    "assert y_test.shape == (10000, 1)\n",
    "# Normalizing the input\n",
    "X_train = np.asarray(X_train)\n",
    "X_train = X_train.astype('float32')\n",
    "X_train/=255\n",
    "X_test = np.asarray(X_test)\n",
    "X_test = X_test.astype('float32')\n",
    "X_test/=255\n",
    "print(X_train.shape)\n",
    "print(X_test.shape)"
   ]
  },
  {
   "cell_type": "code",
   "execution_count": 33,
   "metadata": {},
   "outputs": [],
   "source": [
    "X = np.concatenate((X_train, X_test), axis=0)\n",
    "y = np.concatenate((y_train, y_test), axis=0)\n",
    "X_flat = X.reshape(-1,3072)\n",
    "pca = PCA(n_components=120, svd_solver='auto').fit(X_flat[:1000])\n",
    "scores = np.mean(cross_val_score(pca, X_flat))"
   ]
  },
  {
   "cell_type": "code",
   "execution_count": 34,
   "metadata": {},
   "outputs": [
    {
     "name": "stdout",
     "output_type": "stream",
     "text": [
      "3350.6539713541665\n"
     ]
    }
   ],
   "source": [
    "print(scores)"
   ]
  },
  {
   "cell_type": "code",
   "execution_count": 35,
   "metadata": {},
   "outputs": [
    {
     "name": "stdout",
     "output_type": "stream",
     "text": [
      "[0.28985932 0.10750419 0.06596515 0.03771027 0.03574794 0.02761759\n",
      " 0.02689765 0.02388356 0.02118534 0.01406414 0.01369054 0.01116217\n",
      " 0.01017532 0.00966461 0.00949452 0.00866484 0.00844172 0.00754289\n",
      " 0.00720228 0.00701716 0.00651536 0.00555803 0.0054692  0.00526134\n",
      " 0.00512406 0.0049792  0.00476192 0.00463919 0.00461039 0.00422965\n",
      " 0.00387988 0.00381677 0.00340011 0.00336753 0.0031879  0.00313772\n",
      " 0.00298855 0.00293073 0.00280758 0.00267705 0.00263889 0.00257398\n",
      " 0.00243929 0.0023835  0.00228947 0.0022403  0.00219432 0.00213116\n",
      " 0.00208458 0.00202003 0.0019659  0.0019202  0.00188328 0.0018445\n",
      " 0.00180741 0.0017486  0.00171138 0.00168454 0.00164237 0.00162679\n",
      " 0.00160357 0.00156347 0.00152461 0.00149402 0.00147935 0.00142143\n",
      " 0.0014013  0.00136823 0.00135245 0.00133073 0.00130998 0.00126227\n",
      " 0.00124702 0.00122344 0.00119515 0.00119091 0.00114648 0.00113552\n",
      " 0.00113256 0.00110036 0.00108121 0.00106423 0.00102599 0.00101767\n",
      " 0.00100271 0.0009953  0.0009839  0.00097171 0.00095122 0.00093465\n",
      " 0.00092251 0.00090289 0.0008989  0.00087388 0.00087021 0.00085268\n",
      " 0.00083524 0.00081144 0.0008094  0.00078448 0.00078245 0.00077421\n",
      " 0.00076337 0.00075083 0.00074193 0.00073473 0.00071836 0.00070606\n",
      " 0.00069431 0.00068704 0.0006774  0.00066355 0.00065426 0.00064689\n",
      " 0.00063831 0.00063274 0.00061935 0.00060688 0.00059745 0.00058717]\n",
      "0.28985932\n"
     ]
    }
   ],
   "source": [
    "print(pca.explained_variance_ratio_)\n",
    "print(np.max(pca.explained_variance_ratio_))"
   ]
  },
  {
   "cell_type": "code",
   "execution_count": 36,
   "metadata": {},
   "outputs": [
    {
     "data": {
      "image/png": "[encoded data removed]",
      "text/plain": [
       "<Figure size 1152x432 with 1 Axes>"
      ]
     },
     "metadata": {
      "needs_background": "light"
     },
     "output_type": "display_data"
    }
   ],
   "source": [
    "plt.figure(figsize=(16, 6))\n",
    "percent_variance = np.round(pca.explained_variance_ratio_* 100, decimals =2)\n",
    "columns = [\"pc\" for i in range(120)]\n",
    "plt.bar(x= range(1,121), height=percent_variance, tick_label=columns)\n",
    "plt.ylabel('Percentate of Variance Explained')\n",
    "plt.xlabel('Principal Component')\n",
    "plt.title('PCA Scree Plot')\n",
    "plt.show()"
   ]
  },
  {
   "cell_type": "code",
   "execution_count": null,
   "metadata": {},
   "outputs": [],
   "source": []
  }
 ],
 "metadata": {
  "kernelspec": {
   "display_name": "Python 3",
   "language": "python",
   "name": "python3"
  },
  "language_info": {
   "codemirror_mode": {
    "name": "ipython",
    "version": 3
   },
   "file_extension": ".py",
   "mimetype": "text/x-python",
   "name": "python",
   "nbconvert_exporter": "python",
   "pygments_lexer": "ipython3",
   "version": "3.7.3"
  }
 },
 "nbformat": 4,
 "nbformat_minor": 2
}
