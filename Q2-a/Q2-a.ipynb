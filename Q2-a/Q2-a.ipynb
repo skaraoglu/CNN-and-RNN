{
 "cells": [
  {
   "cell_type": "code",
   "execution_count": 147,
   "metadata": {},
   "outputs": [],
   "source": [
    "import numpy as np\n",
    "import pandas as pd\n",
    "import matplotlib.pyplot as plt\n",
    "import tensorflow as tf\n",
    "import keras\n",
    "import seaborn as sns\n",
    "from keras.models import Sequential"
   ]
  },
  {
   "cell_type": "code",
   "execution_count": 118,
   "metadata": {},
   "outputs": [],
   "source": [
    "# convert an array of values into a dataset matrix\n",
    "def create_dataset(dataset, look_back=1):\n",
    "    dataX, dataY = [], []\n",
    "    for i in range(len(dataset)-look_back-1):\n",
    "        a = dataset.iloc[i:(i+look_back)]\n",
    "        dataX.append(a)\n",
    "        dataY.append(dataset.iloc[i + look_back])\n",
    "    return np.array(dataX), np.array(dataY)\n",
    "\n",
    "def normalize(data, train_split):\n",
    "    data_mean = data[:train_split].mean(axis=0)\n",
    "    data_std = data[:train_split].std(axis=0)\n",
    "    return (data - data_mean) / data_std\n",
    "\n",
    "def create_timeframe(X, y, t, k):\n",
    "    time_data = X[t - k: t]\n",
    "    time_targ = y[t - k: t]\n",
    "    vali_data = X[t + 1: train_split]\n",
    "    vali_targ = y[t + 1: train_split]\n",
    "    return time_data, time_targ, vali_data, vali_targ\n",
    "\n",
    "def visualize_loss(history, title):\n",
    "    loss = history.history[\"loss\"]\n",
    "    val_loss = history.history[\"val_loss\"]\n",
    "    epochs = range(len(loss))\n",
    "    plt.figure()\n",
    "    plt.plot(epochs, loss, \"b\", label=\"Training loss\")\n",
    "    plt.plot(epochs, val_loss, \"r\", label=\"Validation loss\")\n",
    "    plt.title(title)\n",
    "    plt.xlabel(\"Epochs\")\n",
    "    plt.ylabel(\"Loss\")\n",
    "    plt.legend()\n",
    "    plt.show()"
   ]
  },
  {
   "cell_type": "code",
   "execution_count": 2,
   "metadata": {},
   "outputs": [],
   "source": [
    "df = pd.read_csv(\"../data/daily-min-temperatures.csv\")"
   ]
  },
  {
   "cell_type": "code",
   "execution_count": 3,
   "metadata": {},
   "outputs": [
    {
     "data": {
      "text/html": [
       "<div>\n",
       "<style scoped>\n",
       "    .dataframe tbody tr th:only-of-type {\n",
       "        vertical-align: middle;\n",
       "    }\n",
       "\n",
       "    .dataframe tbody tr th {\n",
       "        vertical-align: top;\n",
       "    }\n",
       "\n",
       "    .dataframe thead th {\n",
       "        text-align: right;\n",
       "    }\n",
       "</style>\n",
       "<table border=\"1\" class=\"dataframe\">\n",
       "  <thead>\n",
       "    <tr style=\"text-align: right;\">\n",
       "      <th></th>\n",
       "      <th>Date</th>\n",
       "      <th>Temp</th>\n",
       "    </tr>\n",
       "  </thead>\n",
       "  <tbody>\n",
       "    <tr>\n",
       "      <th>0</th>\n",
       "      <td>1981-01-01</td>\n",
       "      <td>20.7</td>\n",
       "    </tr>\n",
       "    <tr>\n",
       "      <th>1</th>\n",
       "      <td>1981-01-02</td>\n",
       "      <td>17.9</td>\n",
       "    </tr>\n",
       "    <tr>\n",
       "      <th>2</th>\n",
       "      <td>1981-01-03</td>\n",
       "      <td>18.8</td>\n",
       "    </tr>\n",
       "    <tr>\n",
       "      <th>3</th>\n",
       "      <td>1981-01-04</td>\n",
       "      <td>14.6</td>\n",
       "    </tr>\n",
       "    <tr>\n",
       "      <th>4</th>\n",
       "      <td>1981-01-05</td>\n",
       "      <td>15.8</td>\n",
       "    </tr>\n",
       "  </tbody>\n",
       "</table>\n",
       "</div>"
      ],
      "text/plain": [
       "         Date  Temp\n",
       "0  1981-01-01  20.7\n",
       "1  1981-01-02  17.9\n",
       "2  1981-01-03  18.8\n",
       "3  1981-01-04  14.6\n",
       "4  1981-01-05  15.8"
      ]
     },
     "execution_count": 3,
     "metadata": {},
     "output_type": "execute_result"
    }
   ],
   "source": [
    "df.head()"
   ]
  },
  {
   "cell_type": "code",
   "execution_count": 176,
   "metadata": {},
   "outputs": [
    {
     "data": {
      "text/plain": [
       "<matplotlib.axes._subplots.AxesSubplot at 0x29a70879cc0>"
      ]
     },
     "execution_count": 176,
     "metadata": {},
     "output_type": "execute_result"
    },
    {
     "data": {
      "image/png": "[encoded data removed]",
      "text/plain": [
       "<Figure size 864x288 with 1 Axes>"
      ]
     },
     "metadata": {
      "needs_background": "light"
     },
     "output_type": "display_data"
    },
    {
     "data": {
      "image/png": "[encoded data removed]",
      "text/plain": [
       "<Figure size 864x288 with 1 Axes>"
      ]
     },
     "metadata": {
      "needs_background": "light"
     },
     "output_type": "display_data"
    }
   ],
   "source": [
    "plt.figure(figsize=(12, 4))\n",
    "sns.violinplot(x=df['Temp'], palette=\"Greens\")\n",
    "plt.figure(figsize=(12, 4))\n",
    "sns.distplot(df['Temp'],bins=[i for i in range(0,40,5)], kde=False)"
   ]
  },
  {
   "cell_type": "code",
   "execution_count": 85,
   "metadata": {},
   "outputs": [
    {
     "data": {
      "text/plain": [
       "[<matplotlib.lines.Line2D at 0x1bb67b9c780>]"
      ]
     },
     "execution_count": 85,
     "metadata": {},
     "output_type": "execute_result"
    },
    {
     "data": {
      "image/png": "[encoded data removed]",
      "text/plain": [
       "<Figure size 864x288 with 1 Axes>"
      ]
     },
     "metadata": {
      "needs_background": "light"
     },
     "output_type": "display_data"
    }
   ],
   "source": [
    "plt.figure(figsize=(12, 4))\n",
    "plt.plot(df['Temp'])"
   ]
  },
  {
   "cell_type": "code",
   "execution_count": 153,
   "metadata": {},
   "outputs": [],
   "source": [
    "split_fraction = 0.8\n",
    "train_split = int(split_fraction * int(df.shape[0]))\n",
    "\n",
    "learning_rate = 0.001\n",
    "epochs = 10\n",
    "t, k = 2200, 1200\n",
    "# reshape into X=t and Y=t+1\n",
    "look_back = 1\n",
    "#Create dataset creates targets as next entries value\n",
    "train, test = df[\"Temp\"].iloc[0:train_split], df[\"Temp\"].iloc[train_split:]\n",
    "X_train, y_train = create_dataset(train, look_back)\n",
    "X_test, y_test = create_dataset(test, look_back)\n",
    "#LSTM only accepts 3D inputs, increase dimensionality\n",
    "X_train = np.expand_dims(X_train, 1)\n",
    "X_test = np.expand_dims(X_test, 1)\n",
    "#Create the timeframe w.r.t t and k values\n",
    "X_train, y_train, X_val, y_val = create_timeframe(X_train, y_train, t, k)"
   ]
  },
  {
   "cell_type": "code",
   "execution_count": 154,
   "metadata": {},
   "outputs": [
    {
     "name": "stdout",
     "output_type": "stream",
     "text": [
      "(1200, 1, 1)\n",
      "(1200,)\n",
      "(728, 1, 1)\n",
      "(728,)\n",
      "(717, 1, 1)\n",
      "(717,)\n"
     ]
    }
   ],
   "source": [
    "#Number of training examples in timeframe is equal to k\n",
    "#Number of validation examples is equal to training set size - t\n",
    "print(X_train.shape)\n",
    "print(y_train.shape)\n",
    "print(X_test.shape)\n",
    "print(y_test.shape)\n",
    "print(X_val.shape)\n",
    "print(y_val.shape)"
   ]
  },
  {
   "cell_type": "code",
   "execution_count": 157,
   "metadata": {},
   "outputs": [],
   "source": [
    "# create and fit LSTM model\n",
    "model = Sequential()\n",
    "model.add(keras.layers.LSTM(32))\n",
    "model.add(Dense(1))\n",
    "model.compile(loss='mse', optimizer='adam')\n",
    "path_checkpoint = \"model_checkpoint.h5\"\n",
    "es_callback = keras.callbacks.EarlyStopping(monitor=\"val_loss\", min_delta=0, patience=5)\n",
    "\n",
    "modelckpt_callback = keras.callbacks.ModelCheckpoint(\n",
    "    monitor=\"val_loss\",\n",
    "    filepath=path_checkpoint,\n",
    "    verbose=1,\n",
    "    save_weights_only=True,\n",
    "    save_best_only=True,\n",
    ")"
   ]
  },
  {
   "cell_type": "code",
   "execution_count": 159,
   "metadata": {},
   "outputs": [
    {
     "name": "stdout",
     "output_type": "stream",
     "text": [
      "Train on 1200 samples, validate on 717 samples\n",
      "Epoch 1/200\n",
      " - 2s - loss: 42.3622 - val_loss: 9.5685\n",
      "\n",
      "Epoch 00001: val_loss improved from inf to 9.56846, saving model to model_checkpoint.h5\n",
      "Epoch 2/200\n",
      " - 1s - loss: 8.1548 - val_loss: 7.5449\n",
      "\n",
      "Epoch 00002: val_loss improved from 9.56846 to 7.54488, saving model to model_checkpoint.h5\n",
      "Epoch 3/200\n",
      " - 1s - loss: 7.2746 - val_loss: 7.1767\n",
      "\n",
      "Epoch 00003: val_loss improved from 7.54488 to 7.17668, saving model to model_checkpoint.h5\n",
      "Epoch 4/200\n",
      " - 1s - loss: 7.0635 - val_loss: 6.9748\n",
      "\n",
      "Epoch 00004: val_loss improved from 7.17668 to 6.97475, saving model to model_checkpoint.h5\n",
      "Epoch 5/200\n",
      " - 1s - loss: 6.9718 - val_loss: 6.8911\n",
      "\n",
      "Epoch 00005: val_loss improved from 6.97475 to 6.89111, saving model to model_checkpoint.h5\n",
      "Epoch 6/200\n",
      " - 1s - loss: 6.9337 - val_loss: 6.9001\n",
      "\n",
      "Epoch 00006: val_loss did not improve from 6.89111\n",
      "Epoch 7/200\n",
      " - 1s - loss: 6.8546 - val_loss: 7.1963\n",
      "\n",
      "Epoch 00007: val_loss did not improve from 6.89111\n",
      "Epoch 8/200\n",
      " - 1s - loss: 6.8822 - val_loss: 6.7536\n",
      "\n",
      "Epoch 00008: val_loss improved from 6.89111 to 6.75364, saving model to model_checkpoint.h5\n",
      "Epoch 9/200\n",
      " - 1s - loss: 6.8041 - val_loss: 6.6962\n",
      "\n",
      "Epoch 00009: val_loss improved from 6.75364 to 6.69622, saving model to model_checkpoint.h5\n",
      "Epoch 10/200\n",
      " - 1s - loss: 6.8060 - val_loss: 6.6971\n",
      "\n",
      "Epoch 00010: val_loss did not improve from 6.69622\n",
      "Epoch 11/200\n",
      " - 1s - loss: 6.7909 - val_loss: 6.8017\n",
      "\n",
      "Epoch 00011: val_loss did not improve from 6.69622\n",
      "Epoch 12/200\n",
      " - 1s - loss: 6.8127 - val_loss: 6.6360\n",
      "\n",
      "Epoch 00012: val_loss improved from 6.69622 to 6.63604, saving model to model_checkpoint.h5\n",
      "Epoch 13/200\n",
      " - 1s - loss: 6.7661 - val_loss: 6.6129\n",
      "\n",
      "Epoch 00013: val_loss improved from 6.63604 to 6.61286, saving model to model_checkpoint.h5\n",
      "Epoch 14/200\n",
      " - 1s - loss: 6.7482 - val_loss: 6.6488\n",
      "\n",
      "Epoch 00014: val_loss did not improve from 6.61286\n",
      "Epoch 15/200\n",
      " - 2s - loss: 6.7127 - val_loss: 6.9256\n",
      "\n",
      "Epoch 00015: val_loss did not improve from 6.61286\n",
      "Epoch 16/200\n",
      " - 1s - loss: 6.7610 - val_loss: 6.6036\n",
      "\n",
      "Epoch 00016: val_loss improved from 6.61286 to 6.60361, saving model to model_checkpoint.h5\n",
      "Epoch 17/200\n",
      " - 1s - loss: 6.7302 - val_loss: 6.6360\n",
      "\n",
      "Epoch 00017: val_loss did not improve from 6.60361\n",
      "Epoch 18/200\n",
      " - 1s - loss: 6.7290 - val_loss: 6.8537\n",
      "\n",
      "Epoch 00018: val_loss did not improve from 6.60361\n",
      "Epoch 19/200\n",
      " - 1s - loss: 6.7787 - val_loss: 6.5952\n",
      "\n",
      "Epoch 00019: val_loss improved from 6.60361 to 6.59516, saving model to model_checkpoint.h5\n",
      "Epoch 20/200\n",
      " - 1s - loss: 6.7415 - val_loss: 6.5667\n",
      "\n",
      "Epoch 00020: val_loss improved from 6.59516 to 6.56668, saving model to model_checkpoint.h5\n",
      "Epoch 21/200\n",
      " - 1s - loss: 6.7489 - val_loss: 6.7671\n",
      "\n",
      "Epoch 00021: val_loss did not improve from 6.56668\n",
      "Epoch 22/200\n",
      " - 1s - loss: 6.7655 - val_loss: 6.6009\n",
      "\n",
      "Epoch 00022: val_loss did not improve from 6.56668\n",
      "Epoch 23/200\n",
      " - 1s - loss: 6.6955 - val_loss: 6.5994\n",
      "\n",
      "Epoch 00023: val_loss did not improve from 6.56668\n",
      "Epoch 24/200\n",
      " - 1s - loss: 6.7513 - val_loss: 6.6188\n",
      "\n",
      "Epoch 00024: val_loss did not improve from 6.56668\n",
      "Epoch 25/200\n",
      " - 1s - loss: 6.7411 - val_loss: 6.8001\n",
      "\n",
      "Epoch 00025: val_loss did not improve from 6.56668\n"
     ]
    }
   ],
   "source": [
    "h = model.fit(X_train, y_train, epochs=200, batch_size=2, verbose=2, validation_data=(X_val, y_val), callbacks=[es_callback, modelckpt_callback])"
   ]
  },
  {
   "cell_type": "code",
   "execution_count": 163,
   "metadata": {},
   "outputs": [
    {
     "name": "stdout",
     "output_type": "stream",
     "text": [
      "Model: \"sequential_33\"\n",
      "_________________________________________________________________\n",
      "Layer (type)                 Output Shape              Param #   \n",
      "=================================================================\n",
      "lstm_38 (LSTM)               (None, 32)                4352      \n",
      "_________________________________________________________________\n",
      "dense_37 (Dense)             (None, 1)                 33        \n",
      "=================================================================\n",
      "Total params: 4,385\n",
      "Trainable params: 4,385\n",
      "Non-trainable params: 0\n",
      "_________________________________________________________________\n"
     ]
    }
   ],
   "source": [
    "trainPredict = model.predict(X_train)\n",
    "testPredict = model.predict(X_test)\n",
    "model.summary()"
   ]
  },
  {
   "cell_type": "code",
   "execution_count": 164,
   "metadata": {},
   "outputs": [
    {
     "name": "stdout",
     "output_type": "stream",
     "text": [
      "Train Score: 6.80 MSE (2.61 RMSE)\n",
      "Test Score: 6.35 MSE (2.52 RMSE)\n"
     ]
    }
   ],
   "source": [
    "import math\n",
    "# Estimate model performance\n",
    "trainScore = model.evaluate(X_train, y_train, verbose=0)\n",
    "print('Train Score: %.2f MSE (%.2f RMSE)' % (trainScore, math.sqrt(trainScore)))\n",
    "testScore = model.evaluate(X_test, y_test, verbose=0)\n",
    "print('Test Score: %.2f MSE (%.2f RMSE)' % (testScore, math.sqrt(testScore)))"
   ]
  },
  {
   "cell_type": "code",
   "execution_count": 146,
   "metadata": {},
   "outputs": [
    {
     "data": {
      "image/png": "[encoded data removed]",
      "text/plain": [
       "<Figure size 432x288 with 1 Axes>"
      ]
     },
     "metadata": {
      "needs_background": "light"
     },
     "output_type": "display_data"
    }
   ],
   "source": [
    "visualize_loss(h, \"Training and Validation Loss\")"
   ]
  },
  {
   "cell_type": "code",
   "execution_count": null,
   "metadata": {},
   "outputs": [],
   "source": []
  }
 ],
 "metadata": {
  "kernelspec": {
   "display_name": "Python 3",
   "language": "python",
   "name": "python3"
  },
  "language_info": {
   "codemirror_mode": {
    "name": "ipython",
    "version": 3
   },
   "file_extension": ".py",
   "mimetype": "text/x-python",
   "name": "python",
   "nbconvert_exporter": "python",
   "pygments_lexer": "ipython3",
   "version": "3.7.3"
  }
 },
 "nbformat": 4,
 "nbformat_minor": 2
}
